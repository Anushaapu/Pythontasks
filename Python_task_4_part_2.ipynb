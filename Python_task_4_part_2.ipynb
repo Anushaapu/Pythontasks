{
  "nbformat": 4,
  "nbformat_minor": 0,
  "metadata": {
    "colab": {
      "name": "Python task-4 part 2",
      "provenance": [],
      "collapsed_sections": []
    },
    "kernelspec": {
      "name": "python3",
      "display_name": "Python 3"
    }
  },
  "cells": [
    {
      "cell_type": "code",
      "metadata": {
        "colab": {
          "base_uri": "https://localhost:8080/"
        },
        "id": "kKGsDLSIZ1uX",
        "outputId": "8713452a-25fe-44b4-fb3b-1243146c7c11"
      },
      "source": [
        "#program to Find the size of a Tuple\r\n",
        "import sys \r\n",
        "Tuple1 = (\"A\", 1, \"B\", 2, \"C\", 3) \r\n",
        "Tuple2 = (\"Ravi\", \"Ragul\", \"Sitra\", \"coimbatore\") \r\n",
        "Tuple3 = ((1, \"chennai\"), ( 2, \"bangalore\"), (3, \"madurai\"), (4, \"coimbatore\")) \r\n",
        "print(\"Size of Tuple1: \" + str(sys.getsizeof(Tuple1)) + \"bytes\") \r\n",
        "print(\"Size of Tuple2: \" + str(sys.getsizeof(Tuple2)) + \"bytes\") \r\n",
        "print(\"Size of Tuple3: \" + str(sys.getsizeof(Tuple3)) + \"bytes\") "
      ],
      "execution_count": 1,
      "outputs": [
        {
          "output_type": "stream",
          "text": [
            "Size of Tuple1: 96bytes\n",
            "Size of Tuple2: 80bytes\n",
            "Size of Tuple3: 80bytes\n"
          ],
          "name": "stdout"
        }
      ]
    },
    {
      "cell_type": "code",
      "metadata": {
        "colab": {
          "base_uri": "https://localhost:8080/"
        },
        "id": "GiZ9wyXAanEa",
        "outputId": "43f6fe69-2821-4af0-934b-28f69afeb905"
      },
      "source": [
        "#Adding Tuple to List and vice – versa in python\r\n",
        "test_tup = (5, 6, 7, 4, 9) \r\n",
        "print(\"The original tuple is : \", test_tup) \r\n",
        "K = \"Logo\"\r\n",
        "res = [ele for sub in test_tup for ele in (sub, K)] \r\n",
        "print(\"Converted Tuple with K : \", res) "
      ],
      "execution_count": 10,
      "outputs": [
        {
          "output_type": "stream",
          "text": [
            "The original tuple is :  (5, 6, 7, 4, 9)\n",
            "Converted Tuple with K :  [5, 'Logo', 6, 'Logo', 7, 'Logo', 4, 'Logo', 9, 'Logo']\n"
          ],
          "name": "stdout"
        }
      ]
    },
    {
      "cell_type": "code",
      "metadata": {
        "colab": {
          "base_uri": "https://localhost:8080/"
        },
        "id": "XDw4HJrYbG7X",
        "outputId": "e7cb1327-0f7c-4529-aaea-a9755d8564a1"
      },
      "source": [
        "#Create a list of tuples from given list having number and its cube in each tuple\r\n",
        "list1 = [1, 2, 5, 6] \r\n",
        "res = [(val, pow(val, 3)) for val in list1] \r\n",
        "print(res) "
      ],
      "execution_count": null,
      "outputs": [
        {
          "output_type": "stream",
          "text": [
            "[(1, 1), (2, 8), (5, 125), (6, 216)]\n"
          ],
          "name": "stdout"
        }
      ]
    },
    {
      "cell_type": "code",
      "metadata": {
        "colab": {
          "base_uri": "https://localhost:8080/"
        },
        "id": "99IpLeRBbaPv",
        "outputId": "3194614a-2a00-4c99-a6c0-c703be3a501b"
      },
      "source": [
        "#Join Tuples if similar initial element\r\n",
        "test_list = [(5, 6), (5, 7), (6, 8), (6, 10), (7, 13)] \r\n",
        "print(\"The original list is : \" + str(test_list)) \r\n",
        "res = [] \r\n",
        "for sub in test_list:                                            \r\n",
        "    if res and res[-1][0] == sub[0]:               \r\n",
        "        res[-1].extend(sub[1:])                         \r\n",
        "    else: \r\n",
        "        res.append([ele for ele in sub])      \r\n",
        "res = list(map(tuple, res)) \r\n",
        "print(\"The extracted elements : \" + str(res))  "
      ],
      "execution_count": null,
      "outputs": [
        {
          "output_type": "stream",
          "text": [
            "The original list is : [(5, 6), (5, 7), (6, 8), (6, 10), (7, 13)]\n",
            "The extracted elements : [(5, 6, 7), (6, 8, 10), (7, 13)]\n"
          ],
          "name": "stdout"
        }
      ]
    },
    {
      "cell_type": "code",
      "metadata": {
        "colab": {
          "base_uri": "https://localhost:8080/"
        },
        "id": "CkQ-2uVVb8a0",
        "outputId": "837837a8-db60-4a3b-b09c-bebd7b9693ad"
      },
      "source": [
        "#Extract digits from Tuple list\r\n",
        "from itertools import chain \r\n",
        "test_list = [(15, 3), (3, 9), (1, 10), (99, 2)] \r\n",
        "print(\"The original list is : \" + str(test_list)) \r\n",
        "temp = map(lambda ele: str(ele), chain.from_iterable(test_list)) \r\n",
        "res = set() \r\n",
        "for sub in temp: \r\n",
        "    for ele in sub: \r\n",
        "        res.add(ele) \r\n",
        "print(\"The extrated digits : \" + str(res))  "
      ],
      "execution_count": 6,
      "outputs": [
        {
          "output_type": "stream",
          "text": [
            "The original list is : [(15, 3), (3, 9), (1, 10), (99, 2)]\n",
            "The extrated digits : {'0', '3', '9', '2', '1', '5'}\n"
          ],
          "name": "stdout"
        }
      ]
    },
    {
      "cell_type": "code",
      "metadata": {
        "colab": {
          "base_uri": "https://localhost:8080/"
        },
        "id": "gLF8qySNgJGa",
        "outputId": "25e643f1-f4b0-4c15-a9a0-1228cee6a2f4"
      },
      "source": [
        "#Flatten tuple of List to tuple\r\n",
        "test_tuple = ([5, 6], [6, 7, 8, 9], [3]) \r\n",
        "print(\"The original tuple : \" + str(test_tuple)) \r\n",
        "res = tuple(sum(test_tuple, [])) \r\n",
        "print(\"The flattened tuple : \" + str(res)) "
      ],
      "execution_count": 12,
      "outputs": [
        {
          "output_type": "stream",
          "text": [
            "The original tuple : ([5, 6], [6, 7, 8, 9], [3])\n",
            "The flattened tuple : (5, 6, 6, 7, 8, 9, 3)\n"
          ],
          "name": "stdout"
        }
      ]
    },
    {
      "cell_type": "code",
      "metadata": {
        "colab": {
          "base_uri": "https://localhost:8080/"
        },
        "id": "rxL_XHZkgOoo",
        "outputId": "4c133c86-bb0a-47d1-c679-68c9327072b4"
      },
      "source": [
        "#Extract Unique values dictionary values\r\n",
        "test_dict = {'gfg' : [5, 6, 7, 8], \r\n",
        "             'is' : [10, 11, 7, 5], \r\n",
        "             'best' : [6, 12, 10, 8], \r\n",
        "             'for' : [1, 2, 5]} \r\n",
        "print(\"The original dictionary is : \" + str(test_dict)) \r\n",
        "res = list(sorted({ele for val in test_dict.values() for ele in val})) \r\n",
        "print(\"The unique values list is : \" + str(res))"
      ],
      "execution_count": 8,
      "outputs": [
        {
          "output_type": "stream",
          "text": [
            "The original dictionary is : {'gfg': [5, 6, 7, 8], 'is': [10, 11, 7, 5], 'best': [6, 12, 10, 8], 'for': [1, 2, 5]}\n",
            "The unique values list is : [1, 2, 5, 6, 7, 8, 10, 11, 12]\n"
          ],
          "name": "stdout"
        }
      ]
    },
    {
      "cell_type": "code",
      "metadata": {
        "colab": {
          "base_uri": "https://localhost:8080/"
        },
        "id": "3qZMiMBqhYqc",
        "outputId": "4dfcb59a-70b3-476a-9a3c-ba101613d0d1"
      },
      "source": [
        "#find the sum of all items in a dictionary\r\n",
        "def returnSum(myDict): \r\n",
        "    sum = 0\r\n",
        "    for i in myDict: \r\n",
        "        sum = sum + myDict[i] \r\n",
        "    return sum\r\n",
        "# Driver Function \r\n",
        "dict = {'a': 100, 'b':200, 'c':300} \r\n",
        "print(\"Sum :\", returnSum(dict))"
      ],
      "execution_count": 9,
      "outputs": [
        {
          "output_type": "stream",
          "text": [
            "Sum : 600\n"
          ],
          "name": "stdout"
        }
      ]
    },
    {
      "cell_type": "code",
      "metadata": {
        "colab": {
          "base_uri": "https://localhost:8080/"
        },
        "id": "h-SHErrUho3p",
        "outputId": "3299449a-2af5-47fd-8d2d-2d409d05c0cf"
      },
      "source": [
        "#how to remove a key from dictionary in python\r\n",
        "myDict = {'a':1,'b':2,'c':3,'d':4}\r\n",
        "print(myDict)\r\n",
        "if 'a' in myDict: \r\n",
        "    del myDict['a']\r\n",
        "print(myDict)"
      ],
      "execution_count": 11,
      "outputs": [
        {
          "output_type": "stream",
          "text": [
            "{'a': 1, 'b': 2, 'c': 3, 'd': 4}\n",
            "{'b': 2, 'c': 3, 'd': 4}\n"
          ],
          "name": "stdout"
        }
      ]
    },
    {
      "cell_type": "code",
      "metadata": {
        "colab": {
          "base_uri": "https://localhost:8080/",
          "height": 132
        },
        "id": "KTBL6-PqibaX",
        "outputId": "5179aa26-e7c7-4442-9d32-aa38cfae256c"
      },
      "source": [
        "#Ways to sort list of dictionaries by values in Python – Using itemgetter\r\n",
        "dicts = [\r\n",
        "   {\"name\" : \"John\", \"salary\" : 10000},\r\n",
        "   {\"name\" : \"Emma\", \"salary\" : 30000},\r\n",
        "   {\"name\" : \"Harry\", \"salary\" : 15000},\r\n",
        "   {\"name\" : \"Aslan\", \"salary\" : 10000}\r\n",
        "]\r\n",
        "print(sorted(dicts, key = itemgetter('salary'))"
      ],
      "execution_count": 19,
      "outputs": [
        {
          "output_type": "error",
          "ename": "SyntaxError",
          "evalue": "ignored",
          "traceback": [
            "\u001b[0;36m  File \u001b[0;32m\"<ipython-input-19-f4283d318cb4>\"\u001b[0;36m, line \u001b[0;32m8\u001b[0m\n\u001b[0;31m    print(sorted(dicts, key = itemgetter('salary'))\u001b[0m\n\u001b[0m                                                   ^\u001b[0m\n\u001b[0;31mSyntaxError\u001b[0m\u001b[0;31m:\u001b[0m unexpected EOF while parsing\n"
          ]
        }
      ]
    },
    {
      "cell_type": "code",
      "metadata": {
        "colab": {
          "base_uri": "https://localhost:8080/"
        },
        "id": "d05FD_5hi--s",
        "outputId": "7dbe72e3-0c50-4339-cf7d-d3e1b4852397"
      },
      "source": [
        "##Ways to sort list of dictionaries by values in Python – Using lambda\r\n",
        "dicts = [\r\n",
        "   {\"name\" : \"John\", \"salary\" : 10000},\r\n",
        "   {\"name\" : \"Emma\", \"salary\" : 30000},\r\n",
        "   {\"name\" : \"Harry\", \"salary\" : 15000},\r\n",
        "   {\"name\" : \"Aslan\", \"salary\" : 10000}\r\n",
        "]\r\n",
        "print(sorted(dicts, key = lambda item: item['salary']))\r\n"
      ],
      "execution_count": 13,
      "outputs": [
        {
          "output_type": "stream",
          "text": [
            "[{'name': 'John', 'salary': 10000}, {'name': 'Aslan', 'salary': 10000}, {'name': 'Harry', 'salary': 15000}, {'name': 'Emma', 'salary': 30000}]\n"
          ],
          "name": "stdout"
        }
      ]
    },
    {
      "cell_type": "code",
      "metadata": {
        "colab": {
          "base_uri": "https://localhost:8080/",
          "height": 238
        },
        "id": "Q1JpnMqbmVI2",
        "outputId": "bc5db980-1d96-4d85-f4cf-7ee3e2ed1b0a"
      },
      "source": [
        "# Append Dictionary Keys and Values ( In order ) in dictionary \r\n",
        "test_dict = {\"MDU\" : 1, \"CBE\" :  3, \"CHE\" : 2}\r\n",
        "print(\"The original dictionary is : \" + str(test_dict)) \r\n",
        "res = list(test_dict.keys()) + list(test_dict.values()) \r\n",
        "print(\"The ordered keys and values : \" + str(res))"
      ],
      "execution_count": 31,
      "outputs": [
        {
          "output_type": "error",
          "ename": "TypeError",
          "evalue": "ignored",
          "traceback": [
            "\u001b[0;31m---------------------------------------------------------------------------\u001b[0m",
            "\u001b[0;31mTypeError\u001b[0m                                 Traceback (most recent call last)",
            "\u001b[0;32m<ipython-input-31-db242dfc69f8>\u001b[0m in \u001b[0;36m<module>\u001b[0;34m()\u001b[0m\n\u001b[1;32m      1\u001b[0m \u001b[0;31m# Append Dictionary Keys and Values ( In order ) in dictionary\u001b[0m\u001b[0;34m\u001b[0m\u001b[0;34m\u001b[0m\u001b[0;34m\u001b[0m\u001b[0m\n\u001b[1;32m      2\u001b[0m \u001b[0mtest_dict\u001b[0m \u001b[0;34m=\u001b[0m \u001b[0;34m{\u001b[0m\u001b[0;34m\"MDU\"\u001b[0m \u001b[0;34m:\u001b[0m \u001b[0;36m1\u001b[0m\u001b[0;34m,\u001b[0m \u001b[0;34m\"CBE\"\u001b[0m \u001b[0;34m:\u001b[0m  \u001b[0;36m3\u001b[0m\u001b[0;34m,\u001b[0m \u001b[0;34m\"CHE\"\u001b[0m \u001b[0;34m:\u001b[0m \u001b[0;36m2\u001b[0m\u001b[0;34m}\u001b[0m\u001b[0;34m\u001b[0m\u001b[0;34m\u001b[0m\u001b[0m\n\u001b[0;32m----> 3\u001b[0;31m \u001b[0mprint\u001b[0m\u001b[0;34m(\u001b[0m\u001b[0;34m\"The original dictionary is : \"\u001b[0m \u001b[0;34m+\u001b[0m \u001b[0mstr\u001b[0m\u001b[0;34m(\u001b[0m\u001b[0mtest_dict\u001b[0m\u001b[0;34m)\u001b[0m\u001b[0;34m)\u001b[0m\u001b[0;34m\u001b[0m\u001b[0;34m\u001b[0m\u001b[0m\n\u001b[0m\u001b[1;32m      4\u001b[0m \u001b[0mres\u001b[0m \u001b[0;34m=\u001b[0m \u001b[0mlist\u001b[0m\u001b[0;34m(\u001b[0m\u001b[0mtest_dict\u001b[0m\u001b[0;34m.\u001b[0m\u001b[0mkeys\u001b[0m\u001b[0;34m(\u001b[0m\u001b[0;34m)\u001b[0m\u001b[0;34m)\u001b[0m \u001b[0;34m+\u001b[0m \u001b[0mlist\u001b[0m\u001b[0;34m(\u001b[0m\u001b[0mtest_dict\u001b[0m\u001b[0;34m.\u001b[0m\u001b[0mvalues\u001b[0m\u001b[0;34m(\u001b[0m\u001b[0;34m)\u001b[0m\u001b[0;34m)\u001b[0m\u001b[0;34m\u001b[0m\u001b[0;34m\u001b[0m\u001b[0m\n\u001b[1;32m      5\u001b[0m \u001b[0mprint\u001b[0m\u001b[0;34m(\u001b[0m\u001b[0;34m\"The ordered keys and values : \"\u001b[0m \u001b[0;34m+\u001b[0m \u001b[0mstr\u001b[0m\u001b[0;34m(\u001b[0m\u001b[0mres\u001b[0m\u001b[0;34m)\u001b[0m\u001b[0;34m)\u001b[0m\u001b[0;34m\u001b[0m\u001b[0;34m\u001b[0m\u001b[0m\n",
            "\u001b[0;31mTypeError\u001b[0m: 'str' object is not callable"
          ]
        }
      ]
    },
    {
      "cell_type": "code",
      "metadata": {
        "colab": {
          "base_uri": "https://localhost:8080/"
        },
        "id": "4g4FycmhmoBv",
        "outputId": "c4548f53-22b1-443f-ce82-213ecaf9c883"
      },
      "source": [
        "#Sort Python Dictionaries by Key or Value\r\n",
        "def dictionairy():  \r\n",
        " key_value ={}     \r\n",
        " key_value[2] = 56       \r\n",
        " key_value[1] = 2 \r\n",
        " key_value[5] = 12 \r\n",
        " key_value[4] = 24\r\n",
        " key_value[6] = 18      \r\n",
        " key_value[3] = 323 \r\n",
        " print (\"Task 2:-\\nKeys and Values sorted in\",  \r\n",
        "            \"alphabetical order by the key  \")   \r\n",
        " for i in sorted (key_value) : \r\n",
        "    print ((i, key_value[i]), end =\" \") \r\n",
        "def main(): \r\n",
        "    dictionairy()    \r\n",
        "if __name__==\"__main__\":      \r\n",
        "    main() "
      ],
      "execution_count": 15,
      "outputs": [
        {
          "output_type": "stream",
          "text": [
            "Task 2:-\n",
            "Keys and Values sorted in alphabetical order by the key  \n",
            "(1, 2) (2, 56) (3, 323) (4, 24) (5, 12) (6, 18) "
          ],
          "name": "stdout"
        }
      ]
    },
    {
      "cell_type": "code",
      "metadata": {
        "colab": {
          "base_uri": "https://localhost:8080/"
        },
        "id": "f2hsBNL6m8iQ",
        "outputId": "081e3823-81f9-437c-9fdb-3bfaeba5b621"
      },
      "source": [
        "#Remove all duplicates words from a given sentence\r\n",
        "s = \"Python is great and Java is also great\"\r\n",
        "l = s.split() \r\n",
        "k = [] \r\n",
        "for i in l: \r\n",
        "    if (s.count(i)>1 and (i not in k)or s.count(i)==1): \r\n",
        "        k.append(i) \r\n",
        "print(' '.join(k))"
      ],
      "execution_count": 16,
      "outputs": [
        {
          "output_type": "stream",
          "text": [
            "Python is great and Java also\n"
          ],
          "name": "stdout"
        }
      ]
    },
    {
      "cell_type": "code",
      "metadata": {
        "colab": {
          "base_uri": "https://localhost:8080/",
          "height": 238
        },
        "id": "und5jzrdnzgp",
        "outputId": "1c26e897-26c0-4147-ed73-8d30994766d8"
      },
      "source": [
        "#Check whether the string is Symmetrical or Palindrome\r\n",
        "list2 = 'madam'\r\n",
        "list2 = list2.casefold()\r\n",
        "rev1 = reversed(list2)\r\n",
        "if list(list2) == list(rev1):\r\n",
        "   print(\"The string is a palindrome.\")\r\n",
        "else:\r\n",
        "   print(\"The string is not a palindrome.\")"
      ],
      "execution_count": 35,
      "outputs": [
        {
          "output_type": "error",
          "ename": "TypeError",
          "evalue": "ignored",
          "traceback": [
            "\u001b[0;31m---------------------------------------------------------------------------\u001b[0m",
            "\u001b[0;31mTypeError\u001b[0m                                 Traceback (most recent call last)",
            "\u001b[0;32m<ipython-input-35-e32d12592b20>\u001b[0m in \u001b[0;36m<module>\u001b[0;34m()\u001b[0m\n\u001b[1;32m      3\u001b[0m \u001b[0mlist2\u001b[0m \u001b[0;34m=\u001b[0m \u001b[0mlist2\u001b[0m\u001b[0;34m.\u001b[0m\u001b[0mcasefold\u001b[0m\u001b[0;34m(\u001b[0m\u001b[0;34m)\u001b[0m\u001b[0;34m\u001b[0m\u001b[0;34m\u001b[0m\u001b[0m\n\u001b[1;32m      4\u001b[0m \u001b[0mrev1\u001b[0m \u001b[0;34m=\u001b[0m \u001b[0mreversed\u001b[0m\u001b[0;34m(\u001b[0m\u001b[0mlist2\u001b[0m\u001b[0;34m)\u001b[0m\u001b[0;34m\u001b[0m\u001b[0;34m\u001b[0m\u001b[0m\n\u001b[0;32m----> 5\u001b[0;31m \u001b[0;32mif\u001b[0m \u001b[0mlist\u001b[0m\u001b[0;34m(\u001b[0m\u001b[0mlist2\u001b[0m\u001b[0;34m)\u001b[0m \u001b[0;34m==\u001b[0m \u001b[0mlist\u001b[0m\u001b[0;34m(\u001b[0m\u001b[0mrev1\u001b[0m\u001b[0;34m)\u001b[0m\u001b[0;34m:\u001b[0m\u001b[0;34m\u001b[0m\u001b[0;34m\u001b[0m\u001b[0m\n\u001b[0m\u001b[1;32m      6\u001b[0m    \u001b[0mprint\u001b[0m\u001b[0;34m(\u001b[0m\u001b[0;34m\"The string is a palindrome.\"\u001b[0m\u001b[0;34m)\u001b[0m\u001b[0;34m\u001b[0m\u001b[0;34m\u001b[0m\u001b[0m\n\u001b[1;32m      7\u001b[0m \u001b[0;32melse\u001b[0m\u001b[0;34m:\u001b[0m\u001b[0;34m\u001b[0m\u001b[0;34m\u001b[0m\u001b[0m\n",
            "\u001b[0;31mTypeError\u001b[0m: 'list' object is not callable"
          ]
        }
      ]
    },
    {
      "cell_type": "code",
      "metadata": {
        "colab": {
          "base_uri": "https://localhost:8080/"
        },
        "id": "_srZfNDAqCM3",
        "outputId": "85f212a5-ec0b-4afb-bda8-e673bfa73f2d"
      },
      "source": [
        "#Reverse words in a given string \r\n",
        "def reverse1(text):\r\n",
        "    for line in text.split('\\n'):\r\n",
        "        return(' '.join(line.split()[::-1]))\r\n",
        "print(reverse1(\"PSG College of Arts and Science\"))\r\n",
        "print(reverse1(\"Python Exercises\"))"
      ],
      "execution_count": 27,
      "outputs": [
        {
          "output_type": "stream",
          "text": [
            "Science and Arts of College PSG\n",
            "Exercises Python\n"
          ],
          "name": "stdout"
        }
      ]
    },
    {
      "cell_type": "code",
      "metadata": {
        "colab": {
          "base_uri": "https://localhost:8080/"
        },
        "id": "relWEWU6qW6L",
        "outputId": "0c5bea8e-2b06-4e81-f1c7-4654280b1bd8"
      },
      "source": [
        "#Find length of a string in python\r\n",
        "def findLen(str): \r\n",
        "    counter = 0\r\n",
        "    while str[counter:]: \r\n",
        "        counter += 1\r\n",
        "    return counter \r\n",
        "  \r\n",
        "str = \"RaviRagul\"\r\n",
        "print(findLen(str))"
      ],
      "execution_count": 22,
      "outputs": [
        {
          "output_type": "stream",
          "text": [
            "9\n"
          ],
          "name": "stdout"
        }
      ]
    },
    {
      "cell_type": "code",
      "metadata": {
        "colab": {
          "base_uri": "https://localhost:8080/"
        },
        "id": "_RAbzX6tqw_8",
        "outputId": "7cc264cc-93bf-42f1-c294-8a0e39dada24"
      },
      "source": [
        "#Program to check if a string contains any special character\r\n",
        "import re \r\n",
        "def run(string): \r\n",
        "    regex = re.compile('[@_!#$%^&*()<>?/\\|}{~:]') \r\n",
        "    if(regex.search(string) == None): \r\n",
        "        print(\"String is accepted\") \r\n",
        "    else: \r\n",
        "        print(\"String is not accepted.\") \r\n",
        "if __name__ == '__main__' : \r\n",
        "    string = \"RaviRagul\"\r\n",
        "    run(string) "
      ],
      "execution_count": 21,
      "outputs": [
        {
          "output_type": "stream",
          "text": [
            "String is accepted\n"
          ],
          "name": "stdout"
        }
      ]
    },
    {
      "cell_type": "code",
      "metadata": {
        "colab": {
          "base_uri": "https://localhost:8080/"
        },
        "id": "tiBKn5UlrEBy",
        "outputId": "11631e2c-3758-4f13-c126-759ae458d68f"
      },
      "source": [
        "#Replace duplicate Occurrence in String in python\r\n",
        "from collections import OrderedDict\r\n",
        "def remove_duplicate(str1):\r\n",
        "  return \"\".join(OrderedDict.fromkeys(str1))\r\n",
        "     \r\n",
        "print(remove_duplicate(\"PSG College\"))\r\n",
        "print(remove_duplicate(\"RaviRagul\"))"
      ],
      "execution_count": 20,
      "outputs": [
        {
          "output_type": "stream",
          "text": [
            "PSG Coleg\n",
            "Ravigul\n"
          ],
          "name": "stdout"
        }
      ]
    }
  ]
}