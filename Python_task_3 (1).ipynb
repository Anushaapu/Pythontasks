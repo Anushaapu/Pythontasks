{
  "nbformat": 4,
  "nbformat_minor": 0,
  "metadata": {
    "colab": {
      "name": "Python task 3",
      "provenance": [],
      "collapsed_sections": []
    },
    "kernelspec": {
      "name": "python3",
      "display_name": "Python 3"
    }
  },
  "cells": [
    {
      "cell_type": "code",
      "metadata": {
        "colab": {
          "base_uri": "https://localhost:8080/"
        },
        "id": "AmD3xS6nXe43",
        "outputId": "917462a3-ba48-479b-c990-d561acbb9be7"
      },
      "source": [
        "#Create a function that can accept two arguments name and age and print its value\r\n",
        "n=input(\"Enter the name:\")\r\n",
        "a=int(input(\"Enter the age:\"))\r\n",
        "def example(name, age):\r\n",
        "    print(name, age)\r\n",
        "\r\n",
        "example(n, a)"
      ],
      "execution_count": null,
      "outputs": [
        {
          "output_type": "stream",
          "text": [
            "Enter the name:ravi ragul'\n",
            "Enter the age:21\n",
            "ravi ragul' 21\n"
          ],
          "name": "stdout"
        }
      ]
    },
    {
      "cell_type": "code",
      "metadata": {
        "colab": {
          "base_uri": "https://localhost:8080/"
        },
        "id": "mM06QTK-ijdb",
        "outputId": "4f216b9f-bfa6-447d-96cd-71b277156b50"
      },
      "source": [
        "#Write a function func1() such that it can accept a variable length of  argument and print all arguments value\r\n",
        "def val(*args):\r\n",
        "    for i in args:\r\n",
        "        print(i)\r\n",
        "\r\n",
        "val(10,20,30)\r\n",
        "val(80, 100)"
      ],
      "execution_count": null,
      "outputs": [
        {
          "output_type": "stream",
          "text": [
            "10\n",
            "20\n",
            "30\n",
            "80\n",
            "100\n"
          ],
          "name": "stdout"
        }
      ]
    },
    {
      "cell_type": "code",
      "metadata": {
        "colab": {
          "base_uri": "https://localhost:8080/"
        },
        "id": "YxC7BC3WjS__",
        "outputId": "cd61f9e2-009a-4ec8-a378-772083feb65a"
      },
      "source": [
        "#Write a function calculation() such that it can accept two variables and calculate the addition and subtraction of it. And also it must return both addition and subtraction in a single return call\r\n",
        "add=int(input())\r\n",
        "sub=int(input())\r\n",
        "def calculation(a, b):\r\n",
        "    return a+b, a-b\r\n",
        "\r\n",
        "res = calculation(add, sub)\r\n",
        "print(res)"
      ],
      "execution_count": null,
      "outputs": [
        {
          "output_type": "stream",
          "text": [
            "2\n",
            "2\n",
            "(4, 0)\n"
          ],
          "name": "stdout"
        }
      ]
    },
    {
      "cell_type": "code",
      "metadata": {
        "colab": {
          "base_uri": "https://localhost:8080/"
        },
        "id": "T4_-3dNukrYY",
        "outputId": "7359d96d-10f6-43cb-fb09-71253531d642"
      },
      "source": [
        "#Create a function showEmployee() in such a way that it should accept employee name, and it’s salary and display both, and if the salary is missing in function call it should show it as 9000\r\n",
        "def emp(name, sal=9000):\r\n",
        "    print(\"Employee\", name, \"salary is:\", sal)\r\n",
        "\r\n",
        "emp(\"Ravi\", 9000)\r\n",
        "emp(\"Ragul\")"
      ],
      "execution_count": null,
      "outputs": [
        {
          "output_type": "stream",
          "text": [
            "Employee Ravi salary is: 9000\n",
            "Employee Ragul salary is: 9000\n"
          ],
          "name": "stdout"
        }
      ]
    },
    {
      "cell_type": "code",
      "metadata": {
        "colab": {
          "base_uri": "https://localhost:8080/"
        },
        "id": "SwF395Nslagj",
        "outputId": "56c753eb-7dcf-439a-fda2-e2e7296730eb"
      },
      "source": [
        "#Create an inner function to calculate the addition in the following way\r\n",
        "#Create an outer function that will accept two parameters a and b\r\n",
        "#Create an inner function inside an outer function that will calculate the addition of a and b\r\n",
        "At last, an outer function will add 5 into addition and return it\r\n",
        "def outer(a, b):\r\n",
        "    square = a**2\r\n",
        "    def inner(a,b):\r\n",
        "        return a+b\r\n",
        "    add = inner(a, b)\r\n",
        "    return add+5\r\n",
        "\r\n",
        "result = outer(5, 10)\r\n",
        "print(result)"
      ],
      "execution_count": null,
      "outputs": [
        {
          "output_type": "stream",
          "text": [
            "20\n"
          ],
          "name": "stdout"
        }
      ]
    },
    {
      "cell_type": "code",
      "metadata": {
        "colab": {
          "base_uri": "https://localhost:8080/"
        },
        "id": "65h5CI2nlJy9",
        "outputId": "c36d9f58-aa1e-48b8-f4dc-275f49c48ba4"
      },
      "source": [
        "#Write a recursive function to calculate the sum of numbers from 0 to 10\r\n",
        "def sum(num):\r\n",
        "    if num:\r\n",
        "        return num + sum(num-1)\r\n",
        "    else:\r\n",
        "        return 0\r\n",
        "value = sum(10)\r\n",
        "print(value)"
      ],
      "execution_count": null,
      "outputs": [
        {
          "output_type": "stream",
          "text": [
            "55\n"
          ],
          "name": "stdout"
        }
      ]
    },
    {
      "cell_type": "code",
      "metadata": {
        "colab": {
          "base_uri": "https://localhost:8080/"
        },
        "id": "-Z2rzDdAo6rt",
        "outputId": "d4cb7e30-8d38-4022-d936-32eeb413c2ce"
      },
      "source": [
        "#Assign a different name to function and call it through the new name\r\n",
        "def dis(name, age):\r\n",
        "    print(name, age)\r\n",
        "\r\n",
        "dis(\"Ravi\", 26)\r\n",
        "\r\n",
        "std = dis\r\n",
        "std(\"Ravi\", 26)"
      ],
      "execution_count": null,
      "outputs": [
        {
          "output_type": "stream",
          "text": [
            "Emma 26\n",
            "Emma 26\n"
          ],
          "name": "stdout"
        }
      ]
    },
    {
      "cell_type": "code",
      "metadata": {
        "colab": {
          "base_uri": "https://localhost:8080/"
        },
        "id": "fx6SKdAWpBmz",
        "outputId": "c283d010-a076-4721-bbe8-fef6cc1f1bbb"
      },
      "source": [
        "#Generate a Python list of all the even numbers between 4 to 30\r\n",
        "print(list( range(4, 30)))"
      ],
      "execution_count": null,
      "outputs": [
        {
          "output_type": "stream",
          "text": [
            "[4, 5, 6, 7, 8, 9, 10, 11, 12, 13, 14, 15, 16, 17, 18, 19, 20, 21, 22, 23, 24, 25, 26, 27, 28, 29]\n"
          ],
          "name": "stdout"
        }
      ]
    },
    {
      "cell_type": "code",
      "metadata": {
        "colab": {
          "base_uri": "https://localhost:8080/"
        },
        "id": "OLpfSMZ_pJYc",
        "outputId": "afebc2ac-6c1f-4baa-87be-e3ab905043c1"
      },
      "source": [
        "#Return the largest item from the given list\r\n",
        "aList = [4, 6, 8, 24, 12, 2]\r\n",
        "print(max(aList))"
      ],
      "execution_count": null,
      "outputs": [
        {
          "output_type": "stream",
          "text": [
            "24\n"
          ],
          "name": "stdout"
        }
      ]
    }
  ]
}