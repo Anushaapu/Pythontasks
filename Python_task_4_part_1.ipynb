{
  "nbformat": 4,
  "nbformat_minor": 0,
  "metadata": {
    "colab": {
      "name": "Python task-4 part 1",
      "provenance": [],
      "collapsed_sections": []
    },
    "kernelspec": {
      "name": "python3",
      "display_name": "Python 3"
    }
  },
  "cells": [
    {
      "cell_type": "code",
      "metadata": {
        "colab": {
          "base_uri": "https://localhost:8080/"
        },
        "id": "yZgMOMEFeMuS",
        "outputId": "2c0d19bb-0b53-487b-8e47-6a0ed886d091"
      },
      "source": [
        "#Factorial of the number\r\n",
        "num = int(input())\r\n",
        "factorial = 1\r\n",
        "if num < 0:\r\n",
        "   print(\"Sorry, factorial does not exist for negative numbers\")\r\n",
        "elif num == 0:\r\n",
        "   print(\"The factorial of 0 is 1\")\r\n",
        "else:\r\n",
        "   for i in range(1,num + 1):\r\n",
        "       factorial = factorial*i\r\n",
        "   print(\"The factorial of\",num,\"is\",factorial)"
      ],
      "execution_count": null,
      "outputs": [
        {
          "output_type": "stream",
          "text": [
            "7\n",
            "The factorial of 7 is 5040\n"
          ],
          "name": "stdout"
        }
      ]
    },
    {
      "cell_type": "code",
      "metadata": {
        "colab": {
          "base_uri": "https://localhost:8080/"
        },
        "id": "upbnlJKlmNox",
        "outputId": "6cdbd846-c638-492c-d4bb-52d7be1aa485"
      },
      "source": [
        "#Simple Interest\r\n",
        "P = int(input(\"Enter the principal Amount:\"))\r\n",
        "R = float(input(\"Enter the rate:\"))\r\n",
        "T = int(input(\"Enter the time period:\"))\r\n",
        "SI = (P * R * T) / 100\r\n",
        "print(\"simple interest is\", SI)"
      ],
      "execution_count": null,
      "outputs": [
        {
          "output_type": "stream",
          "text": [
            "Enter the principal Amount:1000\n",
            "Enter the rate:4\n",
            "Enter the time period:2\n",
            "simple interest is 80.0\n"
          ],
          "name": "stdout"
        }
      ]
    },
    {
      "cell_type": "code",
      "metadata": {
        "colab": {
          "base_uri": "https://localhost:8080/"
        },
        "id": "zSmAaEYbneCT",
        "outputId": "30392e91-98ec-44a4-8e66-66678cef3621"
      },
      "source": [
        "#check number is prime or not \r\n",
        "number = int(input(\"Enter any number: \"))\r\n",
        "if number > 1:\r\n",
        "    for i in range(2, number):\r\n",
        "        if (number % i) == 0:\r\n",
        "            print(number, \"is not a prime number\")\r\n",
        "            break\r\n",
        "    else:\r\n",
        "        print(number, \"is a prime number\")\r\n",
        "else:\r\n",
        "    print(number, \"is not a prime number\")"
      ],
      "execution_count": null,
      "outputs": [
        {
          "output_type": "stream",
          "text": [
            "Enter any number: 407\n",
            "407 is not a prime number\n"
          ],
          "name": "stdout"
        }
      ]
    },
    {
      "cell_type": "code",
      "metadata": {
        "colab": {
          "base_uri": "https://localhost:8080/"
        },
        "id": "X5fsN5MErUQm",
        "outputId": "8f1118a2-f7fe-4b4c-8a74-82c304d470fe"
      },
      "source": [
        "#Fibonacci number\r\n",
        "from functools import lru_cache\r\n",
        "@lru_cache(maxsize = 1000)\r\n",
        "def fibonacci(n):\r\n",
        "  if n==1:\r\n",
        "    return 1\r\n",
        "  elif n==2:\r\n",
        "    return 1\r\n",
        "  elif n > 2:\r\n",
        "    return fibonacci(n-1)+fibonacci(n-2)\r\n",
        "for n in range(1,25):\r\n",
        "  print(n,\":\",fibonacci(n))"
      ],
      "execution_count": null,
      "outputs": [
        {
          "output_type": "stream",
          "text": [
            "1 : 1\n",
            "2 : 1\n",
            "3 : 2\n",
            "4 : 3\n",
            "5 : 5\n",
            "6 : 8\n",
            "7 : 13\n",
            "8 : 21\n",
            "9 : 34\n",
            "10 : 55\n",
            "11 : 89\n",
            "12 : 144\n",
            "13 : 233\n",
            "14 : 377\n",
            "15 : 610\n",
            "16 : 987\n",
            "17 : 1597\n",
            "18 : 2584\n",
            "19 : 4181\n",
            "20 : 6765\n",
            "21 : 10946\n",
            "22 : 17711\n",
            "23 : 28657\n",
            "24 : 46368\n"
          ],
          "name": "stdout"
        }
      ]
    },
    {
      "cell_type": "code",
      "metadata": {
        "colab": {
          "base_uri": "https://localhost:8080/"
        },
        "id": "ocEk7ZwgsNED",
        "outputId": "b1f8e5f5-47fc-4422-8523-e0a9990491d9"
      },
      "source": [
        "#program for cube sum of first n natural numbers\r\n",
        "def sumOfSeries(n): \r\n",
        "    sum = 0\r\n",
        "    for i in range(1, n+1): \r\n",
        "        sum +=i*i*i \r\n",
        "    return sum\r\n",
        "n = 6\r\n",
        "print(sumOfSeries(n)) "
      ],
      "execution_count": 29,
      "outputs": [
        {
          "output_type": "stream",
          "text": [
            "441\n"
          ],
          "name": "stdout"
        }
      ]
    },
    {
      "cell_type": "markdown",
      "metadata": {
        "id": "J0ujoZTwRjPK"
      },
      "source": [
        "Array Programs\r\n"
      ]
    },
    {
      "cell_type": "code",
      "metadata": {
        "colab": {
          "base_uri": "https://localhost:8080/"
        },
        "id": "apUEsSgNsd6t",
        "outputId": "508327fa-5c01-419d-8855-db7ed1bc9b9d"
      },
      "source": [
        "#Array Programs\r\n",
        "#Find sum of array\r\n",
        "def array_sum(arr):\r\n",
        "    return sum(arr)\r\n",
        "print(array_sum([1, 2, 3, 3, 7]))"
      ],
      "execution_count": 19,
      "outputs": [
        {
          "output_type": "stream",
          "text": [
            "16\n"
          ],
          "name": "stdout"
        }
      ]
    },
    {
      "cell_type": "code",
      "metadata": {
        "id": "lOHEaS7CuZsb",
        "colab": {
          "base_uri": "https://localhost:8080/"
        },
        "outputId": "fb5128a8-4609-41b1-f022-de4d9d11b32c"
      },
      "source": [
        "#largest element in array\r\n",
        "arr = [1,23,45,0,90];   \r\n",
        "max = arr[0];    \r\n",
        "for i in range(0, len(arr)):    \r\n",
        "   if(arr[i] > max):    \r\n",
        "       max = arr[i];    \r\n",
        "           \r\n",
        "print(\"Largest element present in given array: \" + str(max));  "
      ],
      "execution_count": 28,
      "outputs": [
        {
          "output_type": "stream",
          "text": [
            "Largest element present in given array: 90\n"
          ],
          "name": "stdout"
        }
      ]
    },
    {
      "cell_type": "code",
      "metadata": {
        "id": "jh2VaczHus8W"
      },
      "source": [
        "#Program for array rotation\r\n",
        "def right_rotation(a, k):\r\n",
        "   rotations = k % len(a)\r\n",
        "   return a[-rotations:] + a[:-rotations]"
      ],
      "execution_count": 21,
      "outputs": []
    },
    {
      "cell_type": "code",
      "metadata": {
        "colab": {
          "base_uri": "https://localhost:8080/"
        },
        "id": "tGAt6bWNvnrQ",
        "outputId": "22e907db-83be-464e-9afc-ddc3776ea208"
      },
      "source": [
        "#Split the array and add the first part to the end\r\n",
        "def splitArr(arr, n, k):  \r\n",
        "    for i in range(0, k):  \r\n",
        "        x = arr[0] \r\n",
        "        for j in range(0, n-1): \r\n",
        "            arr[j] = arr[j + 1]       \r\n",
        "        arr[n-1] = x \r\n",
        "arr = [21,10,98,34,14] \r\n",
        "n = len(arr) \r\n",
        "position = 2\r\n",
        "splitArr(arr, n, position)  \r\n",
        "for i in range(0, n):  \r\n",
        "    print(arr[i], end = ' ')"
      ],
      "execution_count": 30,
      "outputs": [
        {
          "output_type": "stream",
          "text": [
            "98 34 14 21 10 "
          ],
          "name": "stdout"
        }
      ]
    },
    {
      "cell_type": "code",
      "metadata": {
        "colab": {
          "base_uri": "https://localhost:8080/"
        },
        "id": "ZUPq51VBsOP-",
        "outputId": "e2efe471-7931-4a7d-98ad-61ffda6be8eb"
      },
      "source": [
        "#Find reminder of array multiplication dived by n\r\n",
        "def findremainder(arr, lens, n):\r\n",
        "   mul = 1\r\n",
        "   for i in range(lens):\r\n",
        "      mul = (mul * (arr[i] % n)) % n\r\n",
        "   return mul % n\r\n",
        "# Driven code\r\n",
        "arr = [100,1,2,3,4,5,6,6,7]\r\n",
        "lens = len(arr)\r\n",
        "n = 11\r\n",
        "print( findremainder(arr, lens, n))"
      ],
      "execution_count": 27,
      "outputs": [
        {
          "output_type": "stream",
          "text": [
            "1\n"
          ],
          "name": "stdout"
        }
      ]
    },
    {
      "cell_type": "markdown",
      "metadata": {
        "id": "dporSOR9Rpeb"
      },
      "source": [
        "List Programs"
      ]
    },
    {
      "cell_type": "code",
      "metadata": {
        "colab": {
          "base_uri": "https://localhost:8080/"
        },
        "id": "NICftUWzsZQc",
        "outputId": "1eb1683e-55c4-400b-bf14-15cf85c53066"
      },
      "source": [
        "#Interchange first and last elements in a list\r\n",
        "def swapList(newList): \r\n",
        "    size = len(newList) \r\n",
        "    temp = newList[0] \r\n",
        "    newList[0] = newList[size - 1] \r\n",
        "    newList[size - 1] = temp \r\n",
        "    return newList \r\n",
        "newList = [10,22,67,23,45] \r\n",
        "print(swapList(newList)) "
      ],
      "execution_count": 31,
      "outputs": [
        {
          "output_type": "stream",
          "text": [
            "[45, 22, 67, 23, 10]\n"
          ],
          "name": "stdout"
        }
      ]
    },
    {
      "cell_type": "code",
      "metadata": {
        "colab": {
          "base_uri": "https://localhost:8080/"
        },
        "id": "Bj_D6ssvtMYP",
        "outputId": "b814ba43-dcd0-43f9-faaa-73df26d47f2a"
      },
      "source": [
        "#swap two elements in a list in python\r\n",
        "def swapPositions(list, pos1, pos2): \r\n",
        "    list[pos1], list[pos2] = list[pos2], list[pos1] \r\n",
        "    return list\r\n",
        "List = [23, 65, 19, 90] \r\n",
        "pos1, pos2  = 1, 3\r\n",
        "print(swapPositions(List, pos1-1, pos2-1))"
      ],
      "execution_count": 13,
      "outputs": [
        {
          "output_type": "stream",
          "text": [
            "[19, 65, 23, 90]\n"
          ],
          "name": "stdout"
        }
      ]
    },
    {
      "cell_type": "code",
      "metadata": {
        "colab": {
          "base_uri": "https://localhost:8080/"
        },
        "id": "LdIZsGivtYsh",
        "outputId": "f02ae39b-0435-402f-fcf7-512e7c3bd35e"
      },
      "source": [
        "#Ways to check if element exists in list\r\n",
        "test_list = [ 1, 6, 3, 5, 3, 4 ] \r\n",
        "print(\"Checking if 4 exists in list ( using loop ) : \") \r\n",
        "for i in test_list: \r\n",
        "    if(i == 4) : \r\n",
        "        print (\"Element Exists\") \r\n",
        "print(\"Checking if 4 exists in list ( using in ) : \") \r\n",
        "if (4 in test_list): \r\n",
        "    print (\"Element Exists\")"
      ],
      "execution_count": 14,
      "outputs": [
        {
          "output_type": "stream",
          "text": [
            "Checking if 4 exists in list ( using loop ) : \n",
            "Element Exists\n",
            "Checking if 4 exists in list ( using in ) : \n",
            "Element Exists\n"
          ],
          "name": "stdout"
        }
      ]
    },
    {
      "cell_type": "code",
      "metadata": {
        "colab": {
          "base_uri": "https://localhost:8080/"
        },
        "id": "8lXa1DXCvBA-",
        "outputId": "02ebafe7-a043-4387-9a50-23d9f34e4943"
      },
      "source": [
        "#Reversing a list \r\n",
        "systems = ['Windows', 'macOS', 'Linux']\r\n",
        "print('Original List:', systems)\r\n",
        "systems.reverse()\r\n",
        "print('Updated List :', systems)"
      ],
      "execution_count": 41,
      "outputs": [
        {
          "output_type": "stream",
          "text": [
            "Original List: ['Windows', 'macOS', 'Linux']\n",
            "Updated List : ['Linux', 'macOS', 'Windows']\n"
          ],
          "name": "stdout"
        }
      ]
    },
    {
      "cell_type": "code",
      "metadata": {
        "colab": {
          "base_uri": "https://localhost:8080/"
        },
        "id": "cTf85kJjvGT8",
        "outputId": "0ad1a6e7-f56c-4758-fe97-b3d03eed0e61"
      },
      "source": [
        "#Remove multiple elements in a list \r\n",
        "list1 = [11,5,17,18,23,50]  \r\n",
        "for ele in list1: \r\n",
        "    if ele % 2 == 0: \r\n",
        "        list1.remove(ele) \r\n",
        "print(\"New list after removing all even numbers: \", list1) "
      ],
      "execution_count": 16,
      "outputs": [
        {
          "output_type": "stream",
          "text": [
            "New list after removing all even numbers:  [11, 5, 17, 23]\n"
          ],
          "name": "stdout"
        }
      ]
    },
    {
      "cell_type": "code",
      "metadata": {
        "colab": {
          "base_uri": "https://localhost:8080/"
        },
        "id": "tuPKreVVvOyl",
        "outputId": "2bc64157-4555-4dbb-f073-8700d32e9d96"
      },
      "source": [
        "#Cloning or copying a list\r\n",
        "def Cloning(li1): \r\n",
        "    li_copy = li1[:] \r\n",
        "    return li_copy \r\n",
        "li1 = [11,5,17,18,23,50] \r\n",
        "li2 = Cloning(li1) \r\n",
        "print(\"Original List:\", li1) \r\n",
        "print(\"After Cloning:\", li2) "
      ],
      "execution_count": 42,
      "outputs": [
        {
          "output_type": "stream",
          "text": [
            "Original List: [11, 5, 17, 18, 23, 50]\n",
            "After Cloning: [11, 5, 17, 18, 23, 50]\n"
          ],
          "name": "stdout"
        }
      ]
    },
    {
      "cell_type": "code",
      "metadata": {
        "colab": {
          "base_uri": "https://localhost:8080/"
        },
        "id": "IcTYFjrLvX2K",
        "outputId": "a0b3c0ba-377d-46e1-d2b9-5b9515708689"
      },
      "source": [
        "#Sort the values of first list using second list\r\n",
        "def sort_list(list1, list2):\r\n",
        "    zipped_pairs = zip(list2, list1)\r\n",
        "    z = [x for _, x in sorted(zipped_pairs)]\r\n",
        "    return z \r\n",
        "x = [\"a\", \"b\", \"c\", \"d\", \"e\", \"f\", \"g\", \"h\", \"i\"]\r\n",
        "y = [ 0,   1,   1,    0,   1,   2,   2,   0,   1]\r\n",
        "print(sort_list(x, y))\r\n",
        "x = [\"g\", \"e\", \"e\", \"k\", \"s\", \"f\", \"o\", \"r\", \"g\", \"e\", \"e\", \"k\", \"s\"]\r\n",
        "y = [ 0,   1,   1,    0,   1,   2,   2,   0,   1]\r\n",
        "print(sort_list(x, y))"
      ],
      "execution_count": 39,
      "outputs": [
        {
          "output_type": "stream",
          "text": [
            "['a', 'd', 'h', 'b', 'c', 'e', 'i', 'f', 'g']\n",
            "['g', 'k', 'r', 'e', 'e', 'g', 's', 'f', 'o']\n"
          ],
          "name": "stdout"
        }
      ]
    },
    {
      "cell_type": "markdown",
      "metadata": {
        "id": "uCLo3oJaRuo2"
      },
      "source": [
        "Matrix Programs"
      ]
    },
    {
      "cell_type": "code",
      "metadata": {
        "colab": {
          "base_uri": "https://localhost:8080/"
        },
        "id": "SmMQgQBmxVSy",
        "outputId": "56b93936-7ee7-438f-a48c-5becced8c9eb"
      },
      "source": [
        "# multiply two matrices in python\r\n",
        "A = [[2,2,4], \r\n",
        "    [3 ,5,3], \r\n",
        "    [7 ,3,4]] \r\n",
        "B = [[3,2,1], \r\n",
        "    [3,4,3], \r\n",
        "    [3,2,1]] \r\n",
        "result = [[0, 0, 0, 0], \r\n",
        "        [0, 0, 0, 0], \r\n",
        "        [0, 0, 0, 0]] \r\n",
        "for i in range(len(A)): \r\n",
        "    for j in range(len(B[0])): \r\n",
        "        for k in range(len(B)): \r\n",
        "            result[i][j] += A[i][k] * B[k][j] \r\n",
        "for r in result: \r\n",
        "    print(r) "
      ],
      "execution_count": 38,
      "outputs": [
        {
          "output_type": "stream",
          "text": [
            "[24, 20, 12, 0]\n",
            "[33, 32, 21, 0]\n",
            "[42, 34, 20, 0]\n"
          ],
          "name": "stdout"
        }
      ]
    },
    {
      "cell_type": "code",
      "metadata": {
        "colab": {
          "base_uri": "https://localhost:8080/"
        },
        "id": "tL9QyZjdycyd",
        "outputId": "67b873a8-160e-4a74-eaa3-e706b69fbbd2"
      },
      "source": [
        "#Program to add two matrices \r\n",
        "X = [[2,2,4], \r\n",
        "    [3 ,5,3], \r\n",
        "    [7 ,3,4]] \r\n",
        "Y = [[3,2,1], \r\n",
        "    [3,4,3], \r\n",
        "    [3,2,1]] \r\n",
        "result = [[0,0,0], \r\n",
        "        [0,0,0], \r\n",
        "        [0,0,0]] \r\n",
        "  \r\n",
        "# iterate through rows \r\n",
        "for i in range(len(X)):    \r\n",
        "# iterate through columns \r\n",
        "    for j in range(len(X[0])): \r\n",
        "        result[i][j] = X[i][j] + Y[i][j] \r\n",
        "  \r\n",
        "for r in result: \r\n",
        "    print(r) "
      ],
      "execution_count": 37,
      "outputs": [
        {
          "output_type": "stream",
          "text": [
            "[5, 4, 5]\n",
            "[6, 9, 6]\n",
            "[10, 5, 5]\n"
          ],
          "name": "stdout"
        }
      ]
    },
    {
      "cell_type": "markdown",
      "metadata": {
        "id": "1bC4K-AMRze2"
      },
      "source": [
        "DateTime Programs"
      ]
    },
    {
      "cell_type": "code",
      "metadata": {
        "colab": {
          "base_uri": "https://localhost:8080/"
        },
        "id": "EdbfYUsqTV2Z",
        "outputId": "87333ad8-189e-4e87-ca7b-8f29f02a4f6b"
      },
      "source": [
        "#Program to get current Time\r\n",
        "import time\r\n",
        "\r\n",
        "t = time.localtime()\r\n",
        "current_time = time.strftime(\"%H:%M:%S\", t)\r\n",
        "print(current_time)"
      ],
      "execution_count": null,
      "outputs": [
        {
          "output_type": "stream",
          "text": [
            "04:00:34\n"
          ],
          "name": "stdout"
        }
      ]
    },
    {
      "cell_type": "code",
      "metadata": {
        "colab": {
          "base_uri": "https://localhost:8080/"
        },
        "id": "7KtsrrdNTjBw",
        "outputId": "c12cfe84-39ad-43f9-be6e-ffc6caf6be2e"
      },
      "source": [
        "#Get current date and time using python \r\n",
        "import datetime \r\n",
        "current_time = datetime.datetime.now()  \r\n",
        "print (\"Time now at GMT is : \", end = \"\")  \r\n",
        "print (current_time)  "
      ],
      "execution_count": 36,
      "outputs": [
        {
          "output_type": "stream",
          "text": [
            "Time now at GMT is : 2021-01-29 09:11:37.654131\n"
          ],
          "name": "stdout"
        }
      ]
    },
    {
      "cell_type": "code",
      "metadata": {
        "colab": {
          "base_uri": "https://localhost:8080/"
        },
        "id": "hd5gspUHT2wK",
        "outputId": "f55927f9-55c1-4ab7-fd70-4f3a9a65ade7"
      },
      "source": [
        "#Find yesterday's , today's and tomorrows date\r\n",
        "from datetime import datetime, timedelta \r\n",
        "presentday = datetime.now() \r\n",
        "yesterday = presentday - timedelta(1) \r\n",
        "tomorrow = presentday + timedelta(1) \r\n",
        "print(\"Yesterday : \", yesterday.strftime('%d-%m-%Y')) \r\n",
        "print(\"Today     : \", presentday.strftime('%d-%m-%Y')) \r\n",
        "print(\"Tomorrow  : \", tomorrow.strftime('%d-%m-%Y')) "
      ],
      "execution_count": 35,
      "outputs": [
        {
          "output_type": "stream",
          "text": [
            "Yesterday :  28-01-2021\n",
            "Today     :  29-01-2021\n",
            "Tomorrow  :  30-01-2021\n"
          ],
          "name": "stdout"
        }
      ]
    },
    {
      "cell_type": "code",
      "metadata": {
        "colab": {
          "base_uri": "https://localhost:8080/"
        },
        "id": "ktqVuEh0UPuW",
        "outputId": "f88e9190-cdaa-428f-c6c3-c54681107068"
      },
      "source": [
        "#Program to convert time from 12 hour to 24 hour format \r\n",
        "def convertTo24HourFormat(inputTime):\r\n",
        "    if inputTime[-2:] == \"AM\" and inputTime[:2] == \"12\":\r\n",
        "        return \"00\" + inputTime[2:-2]\r\n",
        "    elif inputTime[-2:] == \"AM\":\r\n",
        "        return inputTime[:-2] \r\n",
        "    elif inputTime[-2:] == \"PM\" and inputTime[:2] == \"12\":\r\n",
        "        return inputTime[:-2]\r\n",
        "    else:\r\n",
        "        return str(int(inputTime[:2]) + 12) + inputTime[2:8]\r\n",
        "print(\"07:19:30 AM in 24 hour format is: \", convertTo24HourFormat(\"07:19:30 AM\"))\r\n",
        "print(\"09:10:15 PM in 24 hour format is: \", convertTo24HourFormat(\"09:10:15 PM\"))"
      ],
      "execution_count": 34,
      "outputs": [
        {
          "output_type": "stream",
          "text": [
            "07:19:30 AM in 24 hour format is:  07:19:30 \n",
            "09:10:15 PM in 24 hour format is:  21:10:15\n"
          ],
          "name": "stdout"
        }
      ]
    }
  ]
}