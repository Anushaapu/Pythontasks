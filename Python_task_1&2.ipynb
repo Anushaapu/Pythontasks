{
  "nbformat": 4,
  "nbformat_minor": 0,
  "metadata": {
    "colab": {
      "name": "Python task 1&2",
      "provenance": []
    },
    "kernelspec": {
      "name": "python3",
      "display_name": "Python 3"
    }
  },
  "cells": [
    {
      "cell_type": "code",
      "metadata": {
        "colab": {
          "base_uri": "https://localhost:8080/",
          "height": 220
        },
        "id": "yUJAUiW2Lv-L",
        "outputId": "4e26ea73-d395-45e2-bf34-6cc573b514bd"
      },
      "source": [
        "import datetime\r\n",
        "now = datetime.datetime.now()\r\n",
        "print(\"Current date and time: \")\r\n",
        "print(str(now))"
      ],
      "execution_count": null,
      "outputs": [
        {
          "output_type": "stream",
          "text": [
            "Current date and time: \n"
          ],
          "name": "stdout"
        },
        {
          "output_type": "error",
          "ename": "TypeError",
          "evalue": "ignored",
          "traceback": [
            "\u001b[0;31m---------------------------------------------------------------------------\u001b[0m",
            "\u001b[0;31mTypeError\u001b[0m                                 Traceback (most recent call last)",
            "\u001b[0;32m<ipython-input-34-faaeb0d39d58>\u001b[0m in \u001b[0;36m<module>\u001b[0;34m()\u001b[0m\n\u001b[1;32m      3\u001b[0m \u001b[0mnow\u001b[0m \u001b[0;34m=\u001b[0m \u001b[0mdatetime\u001b[0m\u001b[0;34m.\u001b[0m\u001b[0mdatetime\u001b[0m\u001b[0;34m.\u001b[0m\u001b[0mnow\u001b[0m\u001b[0;34m(\u001b[0m\u001b[0;34m)\u001b[0m\u001b[0;34m\u001b[0m\u001b[0;34m\u001b[0m\u001b[0m\n\u001b[1;32m      4\u001b[0m \u001b[0mprint\u001b[0m\u001b[0;34m(\u001b[0m\u001b[0;34m\"Current date and time: \"\u001b[0m\u001b[0;34m)\u001b[0m\u001b[0;34m\u001b[0m\u001b[0;34m\u001b[0m\u001b[0m\n\u001b[0;32m----> 5\u001b[0;31m \u001b[0mprint\u001b[0m\u001b[0;34m(\u001b[0m\u001b[0mstr\u001b[0m\u001b[0;34m(\u001b[0m\u001b[0mnow\u001b[0m\u001b[0;34m)\u001b[0m\u001b[0;34m)\u001b[0m\u001b[0;34m\u001b[0m\u001b[0;34m\u001b[0m\u001b[0m\n\u001b[0m",
            "\u001b[0;31mTypeError\u001b[0m: 'str' object is not callable"
          ]
        }
      ]
    },
    {
      "cell_type": "code",
      "metadata": {
        "colab": {
          "base_uri": "https://localhost:8080/"
        },
        "id": "CnztBrUqLzuU",
        "outputId": "50779c34-d9ee-439c-dbd0-102df26cbb09"
      },
      "source": [
        "print(\"\"\"Twinkle, twinkle, little star, \r\n",
        "How I wonder what you are! \r\n",
        "\\t\\tUp above the world so high,\r\n",
        " \\t\\tLike a diamond in the sky. \r\n",
        " Twinkle, twinkle, little star, \r\n",
        " \\tHow I wonder what you are!\"\"\")\r\n",
        "\r\n"
      ],
      "execution_count": null,
      "outputs": [
        {
          "output_type": "stream",
          "text": [
            "Twinkle, twinkle, little star, \n",
            "How I wonder what you are! \n",
            "\t\tUp above the world so high,\n",
            " \t\tLike a diamond in the sky. \n",
            " Twinkle, twinkle, little star, \n",
            " \tHow I wonder what you are!\n"
          ],
          "name": "stdout"
        }
      ]
    },
    {
      "cell_type": "code",
      "metadata": {
        "id": "FhEGPP4Hw0fx"
      },
      "source": [
        ""
      ],
      "execution_count": null,
      "outputs": []
    },
    {
      "cell_type": "code",
      "metadata": {
        "colab": {
          "base_uri": "https://localhost:8080/"
        },
        "id": "DOvwjDmqL8LJ",
        "outputId": "790ec0e2-1c82-4828-a199-f7178a80c04c"
      },
      "source": [
        "fname = input(\"Input your First Name : \")\r\n",
        "lname = input(\"Input your Last Name : \")\r\n",
        "print (\"Hello \" + lname + \" \" + fname)"
      ],
      "execution_count": null,
      "outputs": [
        {
          "output_type": "stream",
          "text": [
            "Input your First Name : Ravi\n",
            "Input your Last Name : Ragul\n",
            "Hello Ragul Ravi\n"
          ],
          "name": "stdout"
        }
      ]
    },
    {
      "cell_type": "code",
      "metadata": {
        "colab": {
          "base_uri": "https://localhost:8080/"
        },
        "id": "BD-SbreRO-ii",
        "outputId": "dbcf4ada-b4d2-40ad-b3d6-575d724c9362"
      },
      "source": [
        "values = input(\"Enter the numbers : \")\r\n",
        "list = values.split(\",\")\r\n",
        "tuple = tuple(list)\r\n",
        "print('List : ',list)\r\n",
        "print('Tuple : ',tuple)"
      ],
      "execution_count": null,
      "outputs": [
        {
          "output_type": "stream",
          "text": [
            "Enter the numbers : 9,12,45,67,89\n",
            "List :  ['9', '12', '45', '67', '89']\n",
            "Tuple :  ('9', '12', '45', '67', '89')\n"
          ],
          "name": "stdout"
        }
      ]
    },
    {
      "cell_type": "code",
      "metadata": {
        "colab": {
          "base_uri": "https://localhost:8080/"
        },
        "id": "ZaI70rIFP2W7",
        "outputId": "634b0089-8b8b-4763-9c59-98e3b84e4d99"
      },
      "source": [
        "l = [\"Red\",\"Green\",\"White\" ,\"Black\"]\r\n",
        "print( l[0],l[-1])"
      ],
      "execution_count": null,
      "outputs": [
        {
          "output_type": "stream",
          "text": [
            "Red Black\n"
          ],
          "name": "stdout"
        }
      ]
    },
    {
      "cell_type": "code",
      "metadata": {
        "colab": {
          "base_uri": "https://localhost:8080/"
        },
        "id": "z1kmx2PKQjm5",
        "outputId": "920bc0b1-3ce3-4b23-acdb-27a97a3e69f5"
      },
      "source": [
        "value= int(input(\"Enter an integer : \"))\r\n",
        "n1 = int( \"%d\" % value )\r\n",
        "n2 = int( \"%d%d\" % (value,value) )\r\n",
        "n3 = int( \"%d%d%d\" % (value,value,value) )\r\n",
        "print (n1+n2+n3)"
      ],
      "execution_count": null,
      "outputs": [
        {
          "output_type": "stream",
          "text": [
            "Enter an integer : 5\n",
            "615\n"
          ],
          "name": "stdout"
        }
      ]
    },
    {
      "cell_type": "code",
      "metadata": {
        "colab": {
          "base_uri": "https://localhost:8080/"
        },
        "id": "8GU1oKexR2cu",
        "outputId": "1dfb9312-4028-46a2-b5c4-0ee46f9d086b"
      },
      "source": [
        "import calendar\r\n",
        "y = int(input(\"Input the year : \"))\r\n",
        "m = int(input(\"Input the month : \"))\r\n",
        "print(calendar.month(y, m))"
      ],
      "execution_count": null,
      "outputs": [
        {
          "output_type": "stream",
          "text": [
            "Input the year : 2021\n",
            "Input the month : 1\n",
            "    January 2021\n",
            "Mo Tu We Th Fr Sa Su\n",
            "             1  2  3\n",
            " 4  5  6  7  8  9 10\n",
            "11 12 13 14 15 16 17\n",
            "18 19 20 21 22 23 24\n",
            "25 26 27 28 29 30 31\n",
            "\n"
          ],
          "name": "stdout"
        }
      ]
    },
    {
      "cell_type": "code",
      "metadata": {
        "colab": {
          "base_uri": "https://localhost:8080/"
        },
        "id": "bqHz2a_PS2dS",
        "outputId": "03986dcf-4390-432e-e4a9-1dde2d9fcad3"
      },
      "source": [
        "def thrice(x, y, z):\r\n",
        "\r\n",
        "     sum = x + y + z\r\n",
        "  \r\n",
        "     if x == y == z:\r\n",
        "      sum = sum * 3\r\n",
        "     return sum\r\n",
        "\r\n",
        "print(thrice(1, 2, 3))\r\n",
        "print(thrice(5, 5, 5))"
      ],
      "execution_count": null,
      "outputs": [
        {
          "output_type": "stream",
          "text": [
            "6\n",
            "45\n"
          ],
          "name": "stdout"
        }
      ]
    },
    {
      "cell_type": "code",
      "metadata": {
        "colab": {
          "base_uri": "https://localhost:8080/"
        },
        "id": "z3ilMBz9VJAg",
        "outputId": "0b37a395-2f8e-454c-9f61-55385775a39d"
      },
      "source": [
        "def new_string(str):\r\n",
        "  if len(str) >= 2 and str[:2] == \"Is\":\r\n",
        "    return str\r\n",
        "  return \"Is\" + str\r\n",
        "\r\n",
        "print(new_string(\"Array\"))\r\n",
        "print(new_string(\"IsEmpty\"))"
      ],
      "execution_count": null,
      "outputs": [
        {
          "output_type": "stream",
          "text": [
            "IsArray\n",
            "IsEmpty\n"
          ],
          "name": "stdout"
        }
      ]
    },
    {
      "cell_type": "code",
      "metadata": {
        "colab": {
          "base_uri": "https://localhost:8080/"
        },
        "id": "VSxhb7rTVe7D",
        "outputId": "968aab9c-e903-401e-f5bd-74ceb9e6cc41"
      },
      "source": [
        "num = int(input(\"Enter a number: \"))\r\n",
        "mod = num % 2\r\n",
        "if mod > 0:\r\n",
        "    print(\"This is an odd number.\")\r\n",
        "else:\r\n",
        "    print(\"This is an even number.\")"
      ],
      "execution_count": null,
      "outputs": [
        {
          "output_type": "stream",
          "text": [
            "Enter a number: 12\n",
            "This is an even number.\n"
          ],
          "name": "stdout"
        }
      ]
    },
    {
      "cell_type": "code",
      "metadata": {
        "colab": {
          "base_uri": "https://localhost:8080/"
        },
        "id": "JGBj8eXRVjrm",
        "outputId": "dfab484c-ab02-4eb3-960c-af9481f19b1d"
      },
      "source": [
        "def concatenate(list):\r\n",
        "    result= ''\r\n",
        "    for element in list:\r\n",
        "        result += str(element)\r\n",
        "    return result\r\n",
        "\r\n",
        "print(concatenate([24, 0, 6, 1999]))"
      ],
      "execution_count": null,
      "outputs": [
        {
          "output_type": "stream",
          "text": [
            "24061999\n"
          ],
          "name": "stdout"
        }
      ]
    },
    {
      "cell_type": "code",
      "metadata": {
        "colab": {
          "base_uri": "https://localhost:8080/"
        },
        "id": "t29sJdF9V7dh",
        "outputId": "bad0a3db-f1be-4a75-e5d1-e9704175372b"
      },
      "source": [
        "a = set([\"White\", \"Black\", \"Red\"])\r\n",
        "b = set([\"Red\", \"Green\"])\r\n",
        "\r\n",
        "print(a.difference(b))\r\n"
      ],
      "execution_count": null,
      "outputs": [
        {
          "output_type": "stream",
          "text": [
            "{'Black', 'White'}\n"
          ],
          "name": "stdout"
        }
      ]
    },
    {
      "cell_type": "code",
      "metadata": {
        "colab": {
          "base_uri": "https://localhost:8080/"
        },
        "id": "t-YCzCT6WGtq",
        "outputId": "67503bed-e469-422f-a200-785e2dbf76ab"
      },
      "source": [
        "def add(a, b):\r\n",
        "    if not (isinstance(a, int) and isinstance(b, int)):\r\n",
        "         raise TypeError(\"Inputs must be integers\")\r\n",
        "    return a + b\r\n",
        "\r\n",
        "print(add(90, 20))"
      ],
      "execution_count": null,
      "outputs": [
        {
          "output_type": "stream",
          "text": [
            "110\n"
          ],
          "name": "stdout"
        }
      ]
    },
    {
      "cell_type": "code",
      "metadata": {
        "colab": {
          "base_uri": "https://localhost:8080/"
        },
        "id": "jL9UiytEWRTa",
        "outputId": "590a9ad2-81a8-42ef-cae7-12177fc0be5b"
      },
      "source": [
        "m=int(input())\r\n",
        "def check(n):\r\n",
        "      return ((abs(1000 - n) <= 100) or (abs(2000 - n) <= 100))\r\n",
        "      \r\n",
        "print(check(m))\r\n"
      ],
      "execution_count": null,
      "outputs": [
        {
          "output_type": "stream",
          "text": [
            "1000\n",
            "True\n"
          ],
          "name": "stdout"
        }
      ]
    },
    {
      "cell_type": "code",
      "metadata": {
        "colab": {
          "base_uri": "https://localhost:8080/"
        },
        "id": "uO1XcEYvw19u",
        "outputId": "437e9117-68d7-4bea-a3db-580778324a1e"
      },
      "source": [
        "def sum(x, y):\r\n",
        "    sum = x + y\r\n",
        "    if sum > 1000:\r\n",
        "        return x*y\r\n",
        "    else:\r\n",
        "        return sum\r\n",
        "\r\n",
        "print(sum(10, 600))\r\n",
        "print(sum(10, 2))\r\n",
        "print(sum(10, 12))"
      ],
      "execution_count": null,
      "outputs": [
        {
          "output_type": "stream",
          "text": [
            "610\n",
            "12\n",
            "22\n"
          ],
          "name": "stdout"
        }
      ]
    },
    {
      "cell_type": "code",
      "metadata": {
        "colab": {
          "base_uri": "https://localhost:8080/"
        },
        "id": "qKucLlKlxKBJ",
        "outputId": "b9daa70b-3b04-4bf1-bafb-6cb55c8e771c"
      },
      "source": [
        "s=int(input())\r\n",
        "num = list(range(s))\r\n",
        "previousNum = 0\r\n",
        "for i in num:\r\n",
        "    sum = previousNum + i\r\n",
        "    print('Current Number '+ str(i) + \" \"+'Previous Number ' + str(previousNum) + ' is ' + str(sum)) # <- This is the issue.\r\n",
        "    previousNum=i"
      ],
      "execution_count": null,
      "outputs": [
        {
          "output_type": "stream",
          "text": [
            "5\n",
            "Current Number 0 Previous Number 0 is 0\n",
            "Current Number 1 Previous Number 0 is 1\n",
            "Current Number 2 Previous Number 1 is 3\n",
            "Current Number 3 Previous Number 2 is 5\n",
            "Current Number 4 Previous Number 3 is 7\n"
          ],
          "name": "stdout"
        }
      ]
    },
    {
      "cell_type": "code",
      "metadata": {
        "colab": {
          "base_uri": "https://localhost:8080/"
        },
        "id": "V5jjQnF30N9R",
        "outputId": "b4dbc7c8-403a-4b0c-c362-c6091322e62a"
      },
      "source": [
        "def even(str):\r\n",
        "  for i in range(0, len(str)-1, 2):\r\n",
        "    print( str[i] )\r\n",
        "\r\n",
        "inputStr = \"pynative\" \r\n",
        "\r\n",
        "print(\"Printing only even index chars\")\r\n",
        "even(inputStr)"
      ],
      "execution_count": null,
      "outputs": [
        {
          "output_type": "stream",
          "text": [
            "Printing only even index chars\n",
            "p\n",
            "n\n",
            "t\n",
            "v\n"
          ],
          "name": "stdout"
        }
      ]
    },
    {
      "cell_type": "code",
      "metadata": {
        "colab": {
          "base_uri": "https://localhost:8080/"
        },
        "id": "lY2UGoWt4GA-",
        "outputId": "e52a8671-b604-468b-88a3-c9329517e92e"
      },
      "source": [
        "str=input(\"Enter the String:\")\r\n",
        "index=int(input(\"Enter the number to remove:\"))\r\n",
        "print(res)\r\n",
        "if index > res:\r\n",
        "    print(\"Entered number is more than string characters\")\r\n",
        "else:\r\n",
        "  print(\"Removing n number of chars\")\r\n",
        "  print(remove(str, index))\r\n",
        "def remove(str, n):\r\n",
        "  return str[n:]\r\n",
        "\r\n"
      ],
      "execution_count": null,
      "outputs": [
        {
          "output_type": "stream",
          "text": [
            "Enter the String:pynative\n",
            "Enter the number to remove:4\n",
            "8\n",
            "Removing n number of chars\n",
            "tive\n"
          ],
          "name": "stdout"
        }
      ]
    },
    {
      "cell_type": "code",
      "metadata": {
        "colab": {
          "base_uri": "https://localhost:8080/"
        },
        "id": "-sUu6B144RwK",
        "outputId": "aad7d1ab-b6f1-4eff-c92d-601655cfdff3"
      },
      "source": [
        "def num(numberList):\r\n",
        "    print(\"The list is \", numberList)\r\n",
        "    firstElement = numberList[0]\r\n",
        "    lastElement = numberList[-1]\r\n",
        "    if (firstElement == lastElement):\r\n",
        "        return True\r\n",
        "    else:\r\n",
        "        return False\r\n",
        "\r\n",
        "numList = [10, 20, 30, 40, 10]\r\n",
        "print(\"result is\", num(numList))"
      ],
      "execution_count": null,
      "outputs": [
        {
          "output_type": "stream",
          "text": [
            "The list is  [10, 20, 30, 40, 10]\n",
            "result is True\n"
          ],
          "name": "stdout"
        }
      ]
    }
  ]
}